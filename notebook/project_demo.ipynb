{
 "cells": [
  {
   "cell_type": "code",
   "execution_count": 1,
   "metadata": {},
   "outputs": [],
   "source": [
    "import os\n",
    "import sys\n",
    "\n",
    "sys.path.append(\"../\")\n",
    "\n",
    "from src.project import AWSProject\n",
    "from src.modules import DynamoDB\n",
    "from src.resources import LambdasConfig"
   ]
  },
  {
   "cell_type": "code",
   "execution_count": 2,
   "metadata": {},
   "outputs": [],
   "source": [
    "db = DynamoDB(\n",
    "    table_name=\"SensorData\",\n",
    "    read_capacity=20,\n",
    "    write_capacity=20,\n",
    "    hash_key_name=\"DeviceID\",\n",
    "    hash_key_type=\"S\",\n",
    "    sort_key_name=\"Timestamp\",\n",
    "    sort_key_type=\"N\",\n",
    "    isstream=True,\n",
    "    stream_type=\"NEW_IMAGE\",\n",
    ")\n",
    "\n",
    "project = AWSProject(\n",
    "    dir=os.path.abspath(\"../terraform\"),\n",
    "    environement=\"dev\",\n",
    "    project_name=\"air-quality\",\n",
    "    aws_profil=\"eleve.isep.free\",\n",
    "    #secret_key = \"siduisdfhbidsf\",\n",
    "    #access_key= \"SDSDSDDSD\",\n",
    "    aws_region=\"ap-southeast-2\",\n",
    ")\n",
    "\n",
    "project.set_database_module(db)\n",
    "\n",
    "project.add_api(\n",
    "    ressource_name=\"sensor\",\n",
    "    stage_name=\"v1\",\n",
    "    get=LambdasConfig(\n",
    "        file_path=\"./lambdas_archives/point_query.zip\",\n",
    "        handler=\"point_query.lambda_handler\",\n",
    "        runtime=\"python3.9\",\n",
    "        memory_size=128,\n",
    "        timeout=10,\n",
    "    ),\n",
    "    post=LambdasConfig(\n",
    "        file_path=\"./lambdas_archives/point_put.zip\",\n",
    "        handler=\"point_put.lambda_handler\",\n",
    "        runtime=\"python3.9\",\n",
    "        memory_size=128,\n",
    "        timeout=5,\n",
    "    ),\n",
    ")\n",
    "\n",
    "project.enable_websocket_api(\n",
    "    message=LambdasConfig(\n",
    "        file_path=\"./lambdas_archives/websocket_message.zip\",\n",
    "        handler=\"websocket_message.handler\",\n",
    "        runtime=\"python3.9\",\n",
    "        memory_size=128,\n",
    "        timeout=20,\n",
    "    ),\n",
    "    manager=LambdasConfig(\n",
    "        file_path=\"./lambdas_archives/websocket_manager.zip\",\n",
    "        handler=\"websocket_manager.handler\",\n",
    "        runtime=\"python3.9\",\n",
    "        memory_size=128,\n",
    "        timeout=5,\n",
    "    ),\n",
    ")"
   ]
  },
  {
   "cell_type": "code",
   "execution_count": 3,
   "metadata": {},
   "outputs": [],
   "source": [
    "project.save()"
   ]
  },
  {
   "cell_type": "code",
   "execution_count": 4,
   "metadata": {},
   "outputs": [
    {
     "name": "stdout",
     "output_type": "stream",
     "text": [
      "zip -j ./lambdas_archives/websocket_manager.zip ./functions/websocket_manager.py;  zip -j ./lambdas_archives/websocket_message.zip ./functions/websocket_message.py;  zip -j ./lambdas_archives/point_put.zip ./functions/point_put.py;  zip -j ./lambdas_archives/point_query.zip ./functions/point_query.py;\n",
      "updating: websocket_manager.py (deflated 65%)\n",
      "updating: websocket_message.py (deflated 65%)\n",
      "updating: point_put.py (deflated 68%)\n",
      "updating: point_query.py (deflated 62%)\n",
      "terraform init\n",
      "\u001b[0m\u001b[1mInitializing modules...\u001b[0m\n",
      "\n",
      "\u001b[0m\u001b[1mInitializing the backend...\u001b[0m\n",
      "\n",
      "\u001b[0m\u001b[1mInitializing provider plugins...\u001b[0m\n",
      "- Reusing previous version of hashicorp/aws from the dependency lock file\n",
      "- Using previously-installed hashicorp/aws v4.32.0\n",
      "\n",
      "\u001b[0m\u001b[1m\u001b[32mTerraform has been successfully initialized!\u001b[0m\u001b[32m\u001b[0m\n",
      "\u001b[0m\u001b[32m\n",
      "You may now begin working with Terraform. Try running \"terraform plan\" to see\n",
      "any changes that are required for your infrastructure. All Terraform commands\n",
      "should now work.\n",
      "\n",
      "If you ever set or change modules or backend configuration for Terraform,\n",
      "rerun this command to reinitialize your working directory. If you forget, other\n",
      "commands will detect it and remind you to do so if necessary.\u001b[0m\n",
      "terraform validate\n",
      "\u001b[32m\u001b[1mSuccess!\u001b[0m The configuration is valid.\n",
      "\u001b[0m\n",
      "terraform apply -auto-approve -json > ../apply.log\n",
      "terraform output > variables.out\n",
      "terraform output -json ingest_api_key > ingest.json\n"
     ]
    }
   ],
   "source": [
    "!cd ../terraform && make"
   ]
  },
  {
   "cell_type": "code",
   "execution_count": 5,
   "metadata": {},
   "outputs": [
    {
     "data": {
      "text/plain": [
       "{'account_id': '312155101165',\n",
       " 'base_url': 'https://dn65pwpev8.execute-api.ap-southeast-2.amazonaws.com/SensorData-air-quality-devAPI-air-quality-dev-v1',\n",
       " 'caller_arn': 'arn:aws:iam::312155101165:user/Admin-Prog',\n",
       " 'caller_user': 'AIDAURLPE27W5EEL65KUF',\n",
       " 'ingest_api_key': '<sensitive>',\n",
       " 'websocket': 'wss://6usq37vqa4.execute-api.ap-southeast-2.amazonaws.com/WebsocketStreamAPI-v1',\n",
       " 'key_name': 'APIKEY-SensorData-air-quality-devAPI-air-quality-dev',\n",
       " 'key_secret': 'Ubfkbwdsbz5yb7d1T9z358NLwpYmevIF9cbUWhEJ'}"
      ]
     },
     "execution_count": 5,
     "metadata": {},
     "output_type": "execute_result"
    }
   ],
   "source": [
    "project.get_outputs()"
   ]
  },
  {
   "cell_type": "code",
   "execution_count": null,
   "metadata": {},
   "outputs": [],
   "source": []
  }
 ],
 "metadata": {
  "kernelspec": {
   "display_name": "Python 3.10.4 ('venv': venv)",
   "language": "python",
   "name": "python3"
  },
  "language_info": {
   "codemirror_mode": {
    "name": "ipython",
    "version": 3
   },
   "file_extension": ".py",
   "mimetype": "text/x-python",
   "name": "python",
   "nbconvert_exporter": "python",
   "pygments_lexer": "ipython3",
   "version": "3.10.4"
  },
  "orig_nbformat": 4,
  "vscode": {
   "interpreter": {
    "hash": "df1ea4d5a4edf9428540615d942b1666d7ccd695d287ee27ec026e24d0da9fab"
   }
  }
 },
 "nbformat": 4,
 "nbformat_minor": 2
}
